{
 "cells": [
  {
   "cell_type": "code",
   "execution_count": null,
   "metadata": {},
   "outputs": [],
   "source": [
    "\"\"\"Script run by an Azure endpoint to the make predictions on images using the model\"\"\"\n",
    "\n",
    "import itertools\n",
    "import os\n",
    "import sys\n",
    "import argparse\n",
    "import subprocess\n",
    "\n",
    "import matplotlib.pylab as plt\n",
    "import numpy as np\n",
    "\n",
    "import tensorflow as tf\n",
    "from tensorflow import keras\n",
    "from tensorflow.keras.applications.vgg19 import VGG19\n",
    "from tensorflow.keras.callbacks import EarlyStopping\n",
    "from tensorflow.keras.layers import Conv2D, Activation, MaxPool2D, Flatten, Dense\n",
    "from tensorflow.keras import Model\n",
    "from tensorflow.keras.callbacks import ModelCheckpoint"
   ]
  },
  {
   "cell_type": "code",
   "execution_count": null,
   "metadata": {},
   "outputs": [],
   "source": [
    "print(\"TF version:\", tf.__version__)\n",
    "print(\"Keras Version:\", keras.__version__)\n",
    "model_folder = \"./model\"\n",
    "model = tf.keras.models.load_model(model_folder)\n",
    "print('Model loaded')\n",
    "print(model)"
   ]
  },
  {
   "cell_type": "code",
   "execution_count": null,
   "metadata": {},
   "outputs": [],
   "source": [
    "size = 256\n",
    "image = image = tf.io.read_file(\"./png_images/test/0_test_1_.png\")\n",
    "image =tf.squeeze(image,[0])\n",
    "image=tf.tile(image, tf.constant([1,1,3], tf.int32))\n",
    "image=tf.image.resize(image,size=[size,size])\n",
    "image = tf.expand_dims(image,axis=0)\n",
    "pred = model.predict(image)\n",
    "# if the probabiliy score is greater than 0.5 then give class label=1 else 0\n",
    "print (\"Prediciton: \" + pred)\n",
    "if pred[0]>0.3:\n",
    "    print(\"Positive\")\n",
    "else:\n",
    "    print(\"Negative\")\n",
    "    "
   ]
  }
 ],
 "metadata": {
  "language_info": {
   "name": "python"
  },
  "orig_nbformat": 4
 },
 "nbformat": 4,
 "nbformat_minor": 2
}
